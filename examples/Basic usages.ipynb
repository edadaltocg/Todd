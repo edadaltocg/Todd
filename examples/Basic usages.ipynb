{
 "cells": [
  {
   "cell_type": "code",
   "execution_count": 1,
   "metadata": {
    "collapsed": true
   },
   "outputs": [],
   "source": [
    "\n",
    "import torch\n",
    "from torch.utils.data import Dataset, DataLoader\n",
    "\n",
    "from transformers import AutoModelForSeq2SeqLM, AutoTokenizer\n",
    "from toddbenchmark.generation_datasets import prep_dataset, prep_model\n",
    "from datasets import load_dataset\n"
   ]
  },
  {
   "cell_type": "code",
   "execution_count": 2,
   "outputs": [],
   "source": [
    "% load_ext autoreload\n",
    "% autoreload 2\n"
   ],
   "metadata": {
    "collapsed": false
   }
  },
  {
   "cell_type": "code",
   "execution_count": 3,
   "outputs": [
    {
     "name": "stderr",
     "output_type": "stream",
     "text": [
      "/home/mdarrin/Documents/phd/transformers/transformers/src/transformers/models/marian/tokenization_marian.py:196: UserWarning: Recommended: pip install sacremoses.\n",
      "  warnings.warn(\"Recommended: pip install sacremoses.\")\n"
     ]
    }
   ],
   "source": [
    "model, tokenizer = prep_model(\"Helsinki-NLP/opus-mt-de-en\")\n"
   ],
   "metadata": {
    "collapsed": false
   }
  },
  {
   "cell_type": "markdown",
   "source": [
    "## Load and prep dataset using ToddBenchmark"
   ],
   "metadata": {
    "collapsed": false
   }
  },
  {
   "cell_type": "code",
   "execution_count": 4,
   "outputs": [
    {
     "name": "stderr",
     "output_type": "stream",
     "text": [
      "Found cached dataset wmt16 (/home/mdarrin/.cache/huggingface/datasets/wmt16/de-en/1.0.0/746749a11d25c02058042da7502d973ff410e73457f3d305fc1177dc0e8c4227)\n"
     ]
    },
    {
     "data": {
      "text/plain": "  0%|          | 0/3 [00:00<?, ?it/s]",
      "application/vnd.jupyter.widget-view+json": {
       "version_major": 2,
       "version_minor": 0,
       "model_id": "ed31e369606849b689d50c7c360bfa56"
      },
      "application/json": {
       "n": 0,
       "total": 3,
       "elapsed": 0.006633281707763672,
       "ncols": null,
       "nrows": null,
       "prefix": "",
       "ascii": false,
       "unit": "it",
       "unit_scale": false,
       "rate": null,
       "bar_format": null,
       "postfix": null,
       "unit_divisor": 1000,
       "initial": 0,
       "colour": null
      }
     },
     "metadata": {},
     "output_type": "display_data"
    },
    {
     "name": "stderr",
     "output_type": "stream",
     "text": [
      "Found cached dataset wmt16 (/home/mdarrin/.cache/huggingface/datasets/wmt16/ro-en/1.0.0/746749a11d25c02058042da7502d973ff410e73457f3d305fc1177dc0e8c4227)\n"
     ]
    },
    {
     "data": {
      "text/plain": "  0%|          | 0/3 [00:00<?, ?it/s]",
      "application/vnd.jupyter.widget-view+json": {
       "version_major": 2,
       "version_minor": 0,
       "model_id": "5641ad7eae324a5189f32e2f1d9b9a9e"
      },
      "application/json": {
       "n": 0,
       "total": 3,
       "elapsed": 0.004888057708740234,
       "ncols": null,
       "nrows": null,
       "prefix": "",
       "ascii": false,
       "unit": "it",
       "unit_scale": false,
       "rate": null,
       "bar_format": null,
       "postfix": null,
       "unit_divisor": 1000,
       "initial": 0,
       "colour": null
      }
     },
     "metadata": {},
     "output_type": "display_data"
    }
   ],
   "source": [
    "\n",
    "in_dataset = prep_dataset(\"wmt16\", \"de-en\", tokenizer=tokenizer, train_max_size=0, validation_max_size=1000,\n",
    "                          test_max_size=100)\n",
    "out_dataset = prep_dataset(\"wmt16\", \"ro-en\", tokenizer=tokenizer, train_max_size=1000, validation_max_size=1000,\n",
    "                           test_max_size=100)\n",
    "\n",
    "# For the sake of this example we only use 100 samples to keep things quick!\n",
    "in_val = in_dataset[1]\n",
    "in_test = in_dataset[2]\n",
    "out_test = out_dataset[2]\n",
    "\n",
    "del in_dataset\n",
    "del out_dataset\n"
   ],
   "metadata": {
    "collapsed": false
   }
  },
  {
   "cell_type": "code",
   "execution_count": 5,
   "outputs": [],
   "source": [
    "# Make dataloader\n",
    "in_val_loader = DataLoader(in_val, shuffle=False, batch_size=4)\n",
    "in_test_loader = DataLoader(in_test, shuffle=False, batch_size=4)\n",
    "out_test_loader = DataLoader(out_test, shuffle=False, batch_size=4)\n"
   ],
   "metadata": {
    "collapsed": false
   }
  },
  {
   "cell_type": "markdown",
   "source": [
    "## Feature based filters\n"
   ],
   "metadata": {
    "collapsed": false
   }
  },
  {
   "cell_type": "code",
   "execution_count": 6,
   "outputs": [],
   "source": [
    "\n",
    "from Todd import extract_embeddings\n",
    "\n",
    "# We work here in a case where the classes do not matter\n",
    "# So we can skip retrieving them and the only class key will be 0\n",
    "# It would be different in a classification problem with enough data we would have a reference per class\n",
    "\n",
    "ref_embeddings, _ = extract_embeddings(model, tokenizer, in_val_loader, layers=[6])"
   ],
   "metadata": {
    "collapsed": false
   }
  },
  {
   "cell_type": "markdown",
   "source": [
    "### Mahalanobis"
   ],
   "metadata": {
    "collapsed": false
   }
  },
  {
   "cell_type": "code",
   "execution_count": 8,
   "outputs": [],
   "source": [
    "from Todd import MahalanobisScorer\n",
    "\n",
    "maha_detector = MahalanobisScorer(layers=[6])\n",
    "maha_detector.fit(ref_embeddings)"
   ],
   "metadata": {
    "collapsed": false
   }
  },
  {
   "cell_type": "code",
   "execution_count": 9,
   "outputs": [
    {
     "name": "stdout",
     "output_type": "stream",
     "text": [
      "tensor([4652.0269,  745.2454, 1136.8346, 1710.2563])\n",
      "tensor([10499.9854,  6349.9004, 10801.1152,  5237.2954])\n"
     ]
    }
   ],
   "source": [
    "\n",
    "def eval_loader(loader):\n",
    "    with torch.no_grad():\n",
    "        for batch in loader:\n",
    "            inputs = tokenizer(\n",
    "                batch[\"source\"], padding=True, truncation=True, return_tensors=\"pt\"\n",
    "            )\n",
    "            output = model.generate(\n",
    "                **inputs,\n",
    "                return_dict_in_generate=True,\n",
    "                output_hidden_states=True,\n",
    "                output_scores=True,\n",
    "            )\n",
    "\n",
    "            print(maha_detector(output))\n",
    "            break\n",
    "\n",
    "\n",
    "eval_loader(in_test_loader)\n",
    "eval_loader(out_test_loader)"
   ],
   "metadata": {
    "collapsed": false
   }
  },
  {
   "cell_type": "markdown",
   "source": [
    "### Cosine\n",
    "\n"
   ],
   "metadata": {
    "collapsed": false
   }
  },
  {
   "cell_type": "code",
   "execution_count": 10,
   "outputs": [
    {
     "name": "stdout",
     "output_type": "stream",
     "text": [
      "IN\n",
      "tensor([-0.5659, -0.8544, -0.7983, -0.7156])\n",
      "OUT\n",
      "tensor([-0.3937, -0.4819, -0.3789, -0.5035])\n"
     ]
    }
   ],
   "source": [
    "from Todd.featuresscorers import CosineProjectionScorer\n",
    "\n",
    "cosine_detector = CosineProjectionScorer(layers=[6])\n",
    "cosine_detector.fit(ref_embeddings)\n",
    "\n",
    "\n",
    "def eval_loader(loader):\n",
    "    with torch.no_grad():\n",
    "        for batch in loader:\n",
    "            inputs = tokenizer(\n",
    "                batch[\"source\"], padding=True, truncation=True, return_tensors=\"pt\"\n",
    "            )\n",
    "            output = model.generate(\n",
    "                **inputs,\n",
    "                return_dict_in_generate=True,\n",
    "                output_hidden_states=True,\n",
    "                output_scores=True,\n",
    "            )\n",
    "\n",
    "            # print(cosine_detector.compute_scores(output))\n",
    "            print(cosine_detector(output))\n",
    "            break\n",
    "\n",
    "\n",
    "print(\"IN\")\n",
    "eval_loader(in_test_loader)\n",
    "print(\"OUT\")\n",
    "eval_loader(out_test_loader)\n"
   ],
   "metadata": {
    "collapsed": false
   }
  },
  {
   "cell_type": "markdown",
   "source": [
    "## Decoder based filters"
   ],
   "metadata": {
    "collapsed": false
   }
  },
  {
   "cell_type": "code",
   "execution_count": 11,
   "outputs": [],
   "source": [
    "from Todd.itscorers import SequenceRenyiNegScorer"
   ],
   "metadata": {
    "collapsed": false
   }
  },
  {
   "cell_type": "code",
   "execution_count": 11,
   "outputs": [],
   "source": [],
   "metadata": {
    "collapsed": false
   }
  },
  {
   "cell_type": "markdown",
   "source": [
    "### Output mode\n",
    "\n",
    "It output a score / a filter on each sequence returned for each sample in the batch"
   ],
   "metadata": {
    "collapsed": false
   }
  },
  {
   "cell_type": "code",
   "execution_count": 14,
   "outputs": [
    {
     "name": "stdout",
     "output_type": "stream",
     "text": [
      "IN DATA\n",
      "tensor([[-10.3531, -10.4222],\n",
      "        [-10.4674, -10.4793],\n",
      "        [-10.4999, -10.5295],\n",
      "        [-10.5211, -10.5511]])\n",
      "tensor([[-10.3531, -10.4222],\n",
      "        [-10.4674, -10.4793],\n",
      "        [-10.4999, -10.5295],\n",
      "        [-10.5211, -10.5511]])\n",
      "OUT DATA\n",
      "tensor([[-10.2332, -10.2277],\n",
      "        [-10.3162, -10.3185],\n",
      "        [-10.2982, -10.2804],\n",
      "        [-10.2965, -10.2874]])\n",
      "tensor([[-10.2332, -10.2277],\n",
      "        [-10.3162, -10.3185],\n",
      "        [-10.2982, -10.2804],\n",
      "        [-10.2965, -10.2874]])\n"
     ]
    }
   ],
   "source": [
    "\n",
    "renyi_entropy_scorer = SequenceRenyiNegScorer(pad_token_id=tokenizer.pad_token_id, mode=\"output\",\n",
    "                                              num_return_sequences=2, num_beam=2, batch_size=4)\n",
    "\n",
    "\n",
    "def eval_loader(loader):\n",
    "    with torch.no_grad():\n",
    "        for batch in loader:\n",
    "            inputs = tokenizer(\n",
    "                batch[\"source\"], padding=True, truncation=True, return_tensors=\"pt\"\n",
    "            )\n",
    "            output = model.generate(\n",
    "                **inputs,\n",
    "                return_dict_in_generate=True,\n",
    "                output_hidden_states=True,\n",
    "                output_scores=True,\n",
    "                num_return_sequences=2,\n",
    "                num_beams=2,\n",
    "                do_sample=False,\n",
    "            )\n",
    "\n",
    "            print(renyi_entropy_scorer(\n",
    "                output,\n",
    "            ))\n",
    "\n",
    "            print(renyi_entropy_scorer.compute_scores(\n",
    "                output,\n",
    "            ))\n",
    "            del output\n",
    "            break\n",
    "\n",
    "\n",
    "print(\"IN DATA\")\n",
    "eval_loader(in_test_loader)\n",
    "print(\"OUT DATA\")\n",
    "eval_loader(out_test_loader)\n"
   ],
   "metadata": {
    "collapsed": false
   }
  },
  {
   "cell_type": "markdown",
   "source": [
    "### Input Mode\n",
    "It only returns a score for each sample in the bach by aggregating the scores of the generated sequences."
   ],
   "metadata": {
    "collapsed": false
   }
  },
  {
   "cell_type": "code",
   "execution_count": 15,
   "outputs": [
    {
     "name": "stdout",
     "output_type": "stream",
     "text": [
      "IN DATA\n",
      "tensor([-10.3876, -10.4734, -10.5147, -10.5361])\n",
      "tensor([-10.3876, -10.4734, -10.5147, -10.5361])\n",
      "OUT DATA\n",
      "tensor([-10.2304, -10.3173, -10.2893, -10.2919])\n",
      "tensor([-10.2304, -10.3173, -10.2893, -10.2919])\n"
     ]
    }
   ],
   "source": [
    "renyi_entropy_scorer = SequenceRenyiNegScorer(pad_token_id=tokenizer.pad_token_id, mode=\"input\",\n",
    "                                              batch_size=4,\n",
    "                                              num_return_sequences=2,\n",
    "                                              num_beam=2)\n",
    "\n",
    "\n",
    "def eval_loader(loader):\n",
    "    with torch.no_grad():\n",
    "        for batch in loader:\n",
    "            inputs = tokenizer(\n",
    "                batch[\"source\"], padding=True, truncation=True, return_tensors=\"pt\"\n",
    "            )\n",
    "            output = model.generate(\n",
    "                **inputs,\n",
    "                return_dict_in_generate=True,\n",
    "                output_hidden_states=True,\n",
    "                output_scores=True,\n",
    "                num_return_sequences=2,\n",
    "                num_beams=2,\n",
    "                do_sample=False,\n",
    "            )\n",
    "\n",
    "            print(renyi_entropy_scorer(\n",
    "                output,\n",
    "\n",
    "            ))\n",
    "\n",
    "            print(renyi_entropy_scorer.compute_scores(\n",
    "                output,\n",
    "            ))\n",
    "            del output\n",
    "            break\n",
    "\n",
    "\n",
    "print(\"IN DATA\")\n",
    "eval_loader(in_test_loader)\n",
    "\n",
    "print(\"OUT DATA\")\n",
    "eval_loader(out_test_loader)\n"
   ],
   "metadata": {
    "collapsed": false
   }
  },
  {
   "cell_type": "markdown",
   "source": [
    "### Beam ranking using Info-projection"
   ],
   "metadata": {
    "collapsed": false
   }
  },
  {
   "cell_type": "code",
   "execution_count": null,
   "outputs": [],
   "source": [],
   "metadata": {
    "collapsed": false
   }
  },
  {
   "cell_type": "code",
   "execution_count": 17,
   "outputs": [],
   "source": [
    "from Todd.itscorers import BeamRenyiInformationProjection"
   ],
   "metadata": {
    "collapsed": false
   }
  },
  {
   "cell_type": "code",
   "execution_count": 18,
   "outputs": [],
   "source": [
    "# Make dataloader\n",
    "# Smaller batch so it runs on CPU and fits in memory\n",
    "in_val_loader = DataLoader(in_val, shuffle=False, batch_size=6)\n",
    "in_test_loader = DataLoader(in_test, shuffle=False, batch_size=6)\n",
    "out_test_loader = DataLoader(out_test, shuffle=False, batch_size=6)\n"
   ],
   "metadata": {
    "collapsed": false
   }
  },
  {
   "cell_type": "code",
   "execution_count": 20,
   "outputs": [
    {
     "name": "stdout",
     "output_type": "stream",
     "text": [
      "IN DATA\n",
      "tensor([[3, 0, 2, 1],\n",
      "        [1, 2, 0, 3],\n",
      "        [1, 2, 3, 0],\n",
      "        [1, 2, 3, 0],\n",
      "        [2, 1, 0, 3],\n",
      "        [3, 0, 2, 1]])\n",
      "tensor([[0.0531, 0.0609, 0.0947, 0.1003],\n",
      "        [0.0334, 0.0384, 0.0498, 0.0870],\n",
      "        [0.0269, 0.0274, 0.0285, 0.0438],\n",
      "        [0.0240, 0.0259, 0.0389, 0.0427],\n",
      "        [0.0358, 0.0441, 0.0488, 0.0559],\n",
      "        [0.0130, 0.0188, 0.0264, 0.0348]])\n",
      "torch.Size([6, 4, 30])\n",
      "OUT DATA\n",
      "tensor([[0, 1, 2, 3],\n",
      "        [0, 2, 3, 1],\n",
      "        [0, 2, 1, 3],\n",
      "        [2, 0, 3, 1],\n",
      "        [2, 0, 1, 3],\n",
      "        [1, 0, 3, 2]])\n",
      "tensor([[0.0026, 0.0040, 0.0044, 0.0520],\n",
      "        [0.0139, 0.0145, 0.0171, 0.0179],\n",
      "        [0.0054, 0.0070, 0.0078, 0.0081],\n",
      "        [0.0104, 0.0113, 0.0114, 0.0152],\n",
      "        [0.0145, 0.0164, 0.0271, 0.0297],\n",
      "        [0.0034, 0.0044, 0.0045, 0.0057]])\n",
      "torch.Size([6, 4, 125])\n"
     ]
    }
   ],
   "source": [
    "batch_self_projector = BeamRenyiInformationProjection(pad_token_id=tokenizer.pad_token_id, mode=\"input\",\n",
    "                                                      use_soft_projection=True, n_neighbors=2,\n",
    "                                                      num_return_sequences=4,\n",
    "                                                      num_beams=2)\n",
    "\n",
    "\n",
    "def eval_loader(loader):\n",
    "    with torch.no_grad():\n",
    "        for batch in loader:\n",
    "            inputs = tokenizer(\n",
    "                batch[\"source\"], padding=True, truncation=True, return_tensors=\"pt\"\n",
    "            )\n",
    "            output = model.generate(\n",
    "                **inputs,\n",
    "                return_dict_in_generate=True,\n",
    "                output_hidden_states=True,\n",
    "                output_scores=True,\n",
    "                num_return_sequences=4,\n",
    "                num_beams=4,\n",
    "                do_sample=False,\n",
    "            )\n",
    "\n",
    "            candidate_scores = batch_self_projector.per_output_scores(\n",
    "                output,\n",
    "\n",
    "            )\n",
    "\n",
    "            candidate_scores, indices = torch.sort(candidate_scores, dim=-1, descending=False)\n",
    "\n",
    "            print(indices)\n",
    "            print(candidate_scores)\n",
    "\n",
    "            print(output.sequences[indices].shape)\n",
    "\n",
    "            del output\n",
    "            break\n",
    "\n",
    "\n",
    "print(\"IN DATA\")\n",
    "eval_loader(in_test_loader)\n",
    "\n",
    "print(\"OUT DATA\")\n",
    "eval_loader(out_test_loader)\n"
   ],
   "metadata": {
    "collapsed": false
   }
  },
  {
   "cell_type": "code",
   "execution_count": null,
   "outputs": [],
   "source": [],
   "metadata": {
    "collapsed": false,
    "pycharm": {
     "is_executing": true
    }
   }
  },
  {
   "cell_type": "code",
   "execution_count": null,
   "outputs": [],
   "source": [],
   "metadata": {
    "collapsed": false,
    "pycharm": {
     "is_executing": true
    }
   }
  },
  {
   "cell_type": "code",
   "execution_count": null,
   "outputs": [],
   "source": [],
   "metadata": {
    "collapsed": false,
    "pycharm": {
     "is_executing": true
    }
   }
  },
  {
   "cell_type": "code",
   "execution_count": null,
   "outputs": [],
   "source": [],
   "metadata": {
    "collapsed": false,
    "pycharm": {
     "is_executing": true
    }
   }
  },
  {
   "cell_type": "code",
   "execution_count": null,
   "outputs": [],
   "source": [],
   "metadata": {
    "collapsed": false
   }
  }
 ],
 "metadata": {
  "kernelspec": {
   "display_name": "Python 3",
   "language": "python",
   "name": "python3"
  },
  "language_info": {
   "codemirror_mode": {
    "name": "ipython",
    "version": 2
   },
   "file_extension": ".py",
   "mimetype": "text/x-python",
   "name": "python",
   "nbconvert_exporter": "python",
   "pygments_lexer": "ipython2",
   "version": "2.7.6"
  }
 },
 "nbformat": 4,
 "nbformat_minor": 0
}
