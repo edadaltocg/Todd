{
 "cells": [
  {
   "cell_type": "code",
   "execution_count": 1,
   "metadata": {
    "collapsed": true
   },
   "outputs": [],
   "source": [
    "\n",
    "import torch\n",
    "from torch.utils.data import Dataset, DataLoader\n",
    "\n",
    "from transformers import AutoModelForSeq2SeqLM, AutoTokenizer\n",
    "from toddbenchmark.generation_datasets import prep_dataset, prep_model\n",
    "from datasets import load_dataset\n"
   ]
  },
  {
   "cell_type": "code",
   "execution_count": 2,
   "outputs": [
    {
     "name": "stderr",
     "output_type": "stream",
     "text": [
      "UsageError: Line magic function `%` not found.\n"
     ]
    }
   ],
   "source": [
    "% load_ext autoreload\n",
    "% autoreload 2\n"
   ],
   "metadata": {
    "collapsed": false
   }
  },
  {
   "cell_type": "code",
   "execution_count": null,
   "outputs": [],
   "source": [
    "model, tokenizer = prep_model(\"Helsinki-NLP/opus-mt-de-en\")\n"
   ],
   "metadata": {
    "collapsed": false
   }
  },
  {
   "cell_type": "markdown",
   "source": [
    "## Load and prep dataset using ToddBenchmark"
   ],
   "metadata": {
    "collapsed": false
   }
  },
  {
   "cell_type": "code",
   "execution_count": null,
   "outputs": [],
   "source": [
    "\n",
    "in_dataset = prep_dataset(\"wmt16\", \"de-en\", tokenizer=tokenizer, train_max_size=0, validation_max_size=1000,\n",
    "                          test_max_size=100)\n",
    "out_dataset = prep_dataset(\"wmt16\", \"ro-en\", tokenizer=tokenizer, train_max_size=1000, validation_max_size=1000,\n",
    "                           test_max_size=100)\n",
    "\n",
    "# For the sake of this example we only use 100 samples to keep things quick!\n",
    "in_val = in_dataset[1]\n",
    "in_test = in_dataset[2]\n",
    "out_test = out_dataset[2]\n",
    "\n",
    "del in_dataset\n",
    "del out_dataset\n"
   ],
   "metadata": {
    "collapsed": false
   }
  },
  {
   "cell_type": "code",
   "execution_count": null,
   "outputs": [],
   "source": [
    "# Make dataloader\n",
    "in_val_loader = DataLoader(in_val, shuffle=False, batch_size=4)\n",
    "in_test_loader = DataLoader(in_test, shuffle=False, batch_size=4)\n",
    "out_test_loader = DataLoader(out_test, shuffle=False, batch_size=4)\n"
   ],
   "metadata": {
    "collapsed": false
   }
  },
  {
   "cell_type": "markdown",
   "source": [
    "## Feature based filters\n"
   ],
   "metadata": {
    "collapsed": false
   }
  },
  {
   "cell_type": "code",
   "execution_count": null,
   "outputs": [],
   "source": [
    "\n",
    "from Todd import extract_embeddings\n",
    "\n",
    "# We work here in a case where the classes do not matter\n",
    "# So we can skip retrieving them and the only class key will be 0\n",
    "# It would be different in a classification problem with enough data we would have a reference per class\n",
    "\n",
    "ref_embeddings, _ = extract_embeddings(model, tokenizer, in_val_loader, layers=[6])"
   ],
   "metadata": {
    "collapsed": false
   }
  },
  {
   "cell_type": "markdown",
   "source": [
    "### Mahalanobis"
   ],
   "metadata": {
    "collapsed": false
   }
  },
  {
   "cell_type": "code",
   "execution_count": null,
   "outputs": [],
   "source": [
    "from Todd import MahalanobisScorer\n",
    "\n",
    "maha_detector = MahalanobisScorer(layers=[6])\n",
    "maha_detector.fit(ref_embeddings)"
   ],
   "metadata": {
    "collapsed": false
   }
  },
  {
   "cell_type": "code",
   "execution_count": null,
   "outputs": [],
   "source": [
    "\n",
    "def eval_loader(loader):\n",
    "    with torch.no_grad():\n",
    "        for batch in loader:\n",
    "            inputs = tokenizer(\n",
    "                batch[\"source\"], padding=True, truncation=True, return_tensors=\"pt\"\n",
    "            )\n",
    "            output = model.generate(\n",
    "                **inputs,\n",
    "                return_dict_in_generate=True,\n",
    "                output_hidden_states=True,\n",
    "                output_scores=True,\n",
    "            )\n",
    "\n",
    "            print(maha_detector(output))\n",
    "            break\n",
    "\n",
    "\n",
    "eval_loader(in_test_loader)\n",
    "eval_loader(out_test_loader)"
   ],
   "metadata": {
    "collapsed": false
   }
  },
  {
   "cell_type": "markdown",
   "source": [
    "### Cosine\n",
    "\n"
   ],
   "metadata": {
    "collapsed": false
   }
  },
  {
   "cell_type": "code",
   "execution_count": null,
   "outputs": [],
   "source": [
    "from Todd.featuresscorers import CosineProjectionScorer\n",
    "\n",
    "cosine_detector = CosineProjectionScorer(layers=[6])\n",
    "cosine_detector.fit(ref_embeddings)\n",
    "\n",
    "\n",
    "def eval_loader(loader):\n",
    "    with torch.no_grad():\n",
    "        for batch in loader:\n",
    "            inputs = tokenizer(\n",
    "                batch[\"source\"], padding=True, truncation=True, return_tensors=\"pt\"\n",
    "            )\n",
    "            output = model.generate(\n",
    "                **inputs,\n",
    "                return_dict_in_generate=True,\n",
    "                output_hidden_states=True,\n",
    "                output_scores=True,\n",
    "            )\n",
    "\n",
    "            # print(cosine_detector.compute_scores(output))\n",
    "            print(cosine_detector(output))\n",
    "            break\n",
    "\n",
    "\n",
    "print(\"IN\")\n",
    "eval_loader(in_test_loader)\n",
    "print(\"OUT\")\n",
    "eval_loader(out_test_loader)\n"
   ],
   "metadata": {
    "collapsed": false
   }
  },
  {
   "cell_type": "markdown",
   "source": [
    "## Decoder based filters"
   ],
   "metadata": {
    "collapsed": false
   }
  },
  {
   "cell_type": "code",
   "execution_count": null,
   "outputs": [],
   "source": [
    "from Todd.itscorers import SequenceRenyiNegScorer"
   ],
   "metadata": {
    "collapsed": false
   }
  },
  {
   "cell_type": "code",
   "execution_count": null,
   "outputs": [],
   "source": [],
   "metadata": {
    "collapsed": false
   }
  },
  {
   "cell_type": "markdown",
   "source": [
    "### Output mode\n",
    "\n",
    "It output a score / a filter on each sequence returned for each sample in the batch"
   ],
   "metadata": {
    "collapsed": false
   }
  },
  {
   "cell_type": "code",
   "execution_count": null,
   "outputs": [],
   "source": [
    "\n",
    "renyi_entropy_scorer = SequenceRenyiNegScorer(pad_token_id=tokenizer.pad_token_id, mode=\"output\",\n",
    "                                              num_return_sequences=2, num_beam=2, batch_size=4)\n",
    "\n",
    "\n",
    "def eval_loader(loader):\n",
    "    with torch.no_grad():\n",
    "        for batch in loader:\n",
    "            inputs = tokenizer(\n",
    "                batch[\"source\"], padding=True, truncation=True, return_tensors=\"pt\"\n",
    "            )\n",
    "            output = model.generate(\n",
    "                **inputs,\n",
    "                return_dict_in_generate=True,\n",
    "                output_hidden_states=True,\n",
    "                output_scores=True,\n",
    "                num_return_sequences=2,\n",
    "                num_beams=2,\n",
    "                do_sample=False,\n",
    "            )\n",
    "\n",
    "            print(renyi_entropy_scorer(\n",
    "                output,\n",
    "            ))\n",
    "\n",
    "            print(renyi_entropy_scorer.compute_scores(\n",
    "                output,\n",
    "            ))\n",
    "            del output\n",
    "            break\n",
    "\n",
    "\n",
    "print(\"IN DATA\")\n",
    "eval_loader(in_test_loader)\n",
    "print(\"OUT DATA\")\n",
    "eval_loader(out_test_loader)\n"
   ],
   "metadata": {
    "collapsed": false
   }
  },
  {
   "cell_type": "markdown",
   "source": [
    "### Input Mode\n",
    "It only returns a score for each sample in the bach by aggregating the scores of the generated sequences."
   ],
   "metadata": {
    "collapsed": false
   }
  },
  {
   "cell_type": "code",
   "execution_count": null,
   "outputs": [],
   "source": [
    "renyi_entropy_scorer = SequenceRenyiNegScorer(pad_token_id=tokenizer.pad_token_id, mode=\"input\",\n",
    "                                              batch_size=4,\n",
    "                                              num_return_sequences=2,\n",
    "                                              num_beam=2)\n",
    "\n",
    "\n",
    "def eval_loader(loader):\n",
    "    with torch.no_grad():\n",
    "        for batch in loader:\n",
    "            inputs = tokenizer(\n",
    "                batch[\"source\"], padding=True, truncation=True, return_tensors=\"pt\"\n",
    "            )\n",
    "            output = model.generate(\n",
    "                **inputs,\n",
    "                return_dict_in_generate=True,\n",
    "                output_hidden_states=True,\n",
    "                output_scores=True,\n",
    "                num_return_sequences=2,\n",
    "                num_beams=2,\n",
    "                do_sample=False,\n",
    "            )\n",
    "\n",
    "            print(renyi_entropy_scorer(\n",
    "                output,\n",
    "\n",
    "            ))\n",
    "\n",
    "            print(renyi_entropy_scorer.compute_scores(\n",
    "                output,\n",
    "            ))\n",
    "            del output\n",
    "            break\n",
    "\n",
    "\n",
    "print(\"IN DATA\")\n",
    "eval_loader(in_test_loader)\n",
    "\n",
    "print(\"OUT DATA\")\n",
    "eval_loader(out_test_loader)\n"
   ],
   "metadata": {
    "collapsed": false
   }
  },
  {
   "cell_type": "markdown",
   "source": [
    "### Beam ranking using Info-projection"
   ],
   "metadata": {
    "collapsed": false
   }
  },
  {
   "cell_type": "code",
   "execution_count": null,
   "outputs": [],
   "source": [],
   "metadata": {
    "collapsed": false
   }
  },
  {
   "cell_type": "code",
   "execution_count": null,
   "outputs": [],
   "source": [
    "from Todd.itscorers import BeamRenyiInformationProjection"
   ],
   "metadata": {
    "collapsed": false
   }
  },
  {
   "cell_type": "code",
   "execution_count": null,
   "outputs": [],
   "source": [
    "# Make dataloader\n",
    "# Smaller batch so it runs on CPU and fits in memory\n",
    "in_val_loader = DataLoader(in_val, shuffle=False, batch_size=6)\n",
    "in_test_loader = DataLoader(in_test, shuffle=False, batch_size=6)\n",
    "out_test_loader = DataLoader(out_test, shuffle=False, batch_size=6)\n"
   ],
   "metadata": {
    "collapsed": false
   }
  },
  {
   "cell_type": "code",
   "execution_count": null,
   "outputs": [],
   "source": [
    "batch_self_projector = BeamRenyiInformationProjection(pad_token_id=tokenizer.pad_token_id, mode=\"input\",\n",
    "                                                      use_soft_projection=True, n_neighbors=2,\n",
    "                                                      num_return_sequences=4,\n",
    "                                                      num_beams=2)\n",
    "\n",
    "\n",
    "def eval_loader(loader):\n",
    "    with torch.no_grad():\n",
    "        for batch in loader:\n",
    "            inputs = tokenizer(\n",
    "                batch[\"source\"], padding=True, truncation=True, return_tensors=\"pt\"\n",
    "            )\n",
    "            output = model.generate(\n",
    "                **inputs,\n",
    "                return_dict_in_generate=True,\n",
    "                output_hidden_states=True,\n",
    "                output_scores=True,\n",
    "                num_return_sequences=4,\n",
    "                num_beams=4,\n",
    "                do_sample=False,\n",
    "            )\n",
    "\n",
    "            candidate_scores = batch_self_projector.per_output_scores(\n",
    "                output,\n",
    "\n",
    "            )\n",
    "\n",
    "            candidate_scores, indices = torch.sort(candidate_scores, dim=-1, descending=False)\n",
    "\n",
    "            print(indices)\n",
    "            print(candidate_scores)\n",
    "\n",
    "            print(output.sequences[indices].shape)\n",
    "\n",
    "            del output\n",
    "            break\n",
    "\n",
    "\n",
    "print(\"IN DATA\")\n",
    "eval_loader(in_test_loader)\n",
    "\n",
    "print(\"OUT DATA\")\n",
    "eval_loader(out_test_loader)\n"
   ],
   "metadata": {
    "collapsed": false
   }
  },
  {
   "cell_type": "code",
   "execution_count": null,
   "outputs": [],
   "source": [],
   "metadata": {
    "collapsed": false
   }
  },
  {
   "cell_type": "code",
   "execution_count": null,
   "outputs": [],
   "source": [],
   "metadata": {
    "collapsed": false
   }
  },
  {
   "cell_type": "code",
   "execution_count": null,
   "outputs": [],
   "source": [],
   "metadata": {
    "collapsed": false
   }
  },
  {
   "cell_type": "code",
   "execution_count": null,
   "outputs": [],
   "source": [],
   "metadata": {
    "collapsed": false
   }
  },
  {
   "cell_type": "code",
   "execution_count": null,
   "outputs": [],
   "source": [],
   "metadata": {
    "collapsed": false
   }
  }
 ],
 "metadata": {
  "kernelspec": {
   "display_name": "Python 3",
   "language": "python",
   "name": "python3"
  },
  "language_info": {
   "codemirror_mode": {
    "name": "ipython",
    "version": 2
   },
   "file_extension": ".py",
   "mimetype": "text/x-python",
   "name": "python",
   "nbconvert_exporter": "python",
   "pygments_lexer": "ipython2",
   "version": "2.7.6"
  }
 },
 "nbformat": 4,
 "nbformat_minor": 0
}
