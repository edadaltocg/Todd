{
 "cells": [
  {
   "cell_type": "code",
   "execution_count": 1,
   "metadata": {
    "collapsed": true
   },
   "outputs": [],
   "source": [
    "\n",
    "import torch\n",
    "from torch.utils.data import Dataset, DataLoader\n",
    "\n",
    "from transformers import AutoModelForSeq2SeqLM, AutoTokenizer\n",
    "from toddbenchmark.generation_datasets import prep_dataset, prep_model\n",
    "from datasets import load_dataset\n"
   ]
  },
  {
   "cell_type": "code",
   "execution_count": 2,
   "outputs": [],
   "source": [
    "%load_ext autoreload\n",
    "%autoreload 2\n"
   ],
   "metadata": {
    "collapsed": false
   }
  },
  {
   "cell_type": "code",
   "execution_count": 3,
   "outputs": [
    {
     "name": "stderr",
     "output_type": "stream",
     "text": [
      "/home/mdarrin/Documents/phd/transformers/transformers/src/transformers/models/marian/tokenization_marian.py:196: UserWarning: Recommended: pip install sacremoses.\n",
      "  warnings.warn(\"Recommended: pip install sacremoses.\")\n"
     ]
    }
   ],
   "source": [
    "model, tokenizer = prep_model(\"Helsinki-NLP/opus-mt-de-en\")\n"
   ],
   "metadata": {
    "collapsed": false
   }
  },
  {
   "cell_type": "markdown",
   "source": [
    "## Load and prep dataset using ToddBenchmark"
   ],
   "metadata": {
    "collapsed": false
   }
  },
  {
   "cell_type": "code",
   "execution_count": 4,
   "outputs": [
    {
     "name": "stderr",
     "output_type": "stream",
     "text": [
      "Found cached dataset wmt16 (/home/mdarrin/.cache/huggingface/datasets/wmt16/de-en/1.0.0/746749a11d25c02058042da7502d973ff410e73457f3d305fc1177dc0e8c4227)\n"
     ]
    },
    {
     "data": {
      "text/plain": "  0%|          | 0/3 [00:00<?, ?it/s]",
      "application/vnd.jupyter.widget-view+json": {
       "version_major": 2,
       "version_minor": 0,
       "model_id": "ed31e369606849b689d50c7c360bfa56"
      },
      "application/json": {
       "n": 0,
       "total": 3,
       "elapsed": 0.006633281707763672,
       "ncols": null,
       "nrows": null,
       "prefix": "",
       "ascii": false,
       "unit": "it",
       "unit_scale": false,
       "rate": null,
       "bar_format": null,
       "postfix": null,
       "unit_divisor": 1000,
       "initial": 0,
       "colour": null
      }
     },
     "metadata": {},
     "output_type": "display_data"
    },
    {
     "name": "stderr",
     "output_type": "stream",
     "text": [
      "Found cached dataset wmt16 (/home/mdarrin/.cache/huggingface/datasets/wmt16/ro-en/1.0.0/746749a11d25c02058042da7502d973ff410e73457f3d305fc1177dc0e8c4227)\n"
     ]
    },
    {
     "data": {
      "text/plain": "  0%|          | 0/3 [00:00<?, ?it/s]",
      "application/vnd.jupyter.widget-view+json": {
       "version_major": 2,
       "version_minor": 0,
       "model_id": "5641ad7eae324a5189f32e2f1d9b9a9e"
      },
      "application/json": {
       "n": 0,
       "total": 3,
       "elapsed": 0.004888057708740234,
       "ncols": null,
       "nrows": null,
       "prefix": "",
       "ascii": false,
       "unit": "it",
       "unit_scale": false,
       "rate": null,
       "bar_format": null,
       "postfix": null,
       "unit_divisor": 1000,
       "initial": 0,
       "colour": null
      }
     },
     "metadata": {},
     "output_type": "display_data"
    }
   ],
   "source": [
    "\n",
    "in_dataset = prep_dataset(\"wmt16\", \"de-en\", tokenizer=tokenizer, train_max_size=0, validation_max_size=1000, test_max_size=100)\n",
    "out_dataset = prep_dataset(\"wmt16\", \"ro-en\", tokenizer=tokenizer, train_max_size=1000, validation_max_size=1000, test_max_size=100)\n",
    "\n",
    "# For the sake of this example we only use 100 samples to keep things quick!\n",
    "in_val = in_dataset[1]\n",
    "in_test = in_dataset[2]\n",
    "out_test = out_dataset[2]\n",
    "\n",
    "\n",
    "del in_dataset\n",
    "del out_dataset\n"
   ],
   "metadata": {
    "collapsed": false
   }
  },
  {
   "cell_type": "code",
   "execution_count": 5,
   "outputs": [],
   "source": [
    "# Make dataloader\n",
    "in_val_loader = DataLoader(in_val, shuffle=False, batch_size=4)\n",
    "in_test_loader = DataLoader(in_test, shuffle=False, batch_size=4)\n",
    "out_test_loader = DataLoader(out_test, shuffle=False, batch_size=4)\n"
   ],
   "metadata": {
    "collapsed": false
   }
  },
  {
   "cell_type": "markdown",
   "source": [
    "## Feature based filters\n"
   ],
   "metadata": {
    "collapsed": false
   }
  },
  {
   "cell_type": "code",
   "execution_count": 6,
   "outputs": [],
   "source": [
    "\n",
    "from Todd import extract_embeddings\n",
    "\n",
    "# We work here in a case where the classes do not matter\n",
    "# So we can skip retrieving them and the only class key will be 0\n",
    "# It would be different in a classification problem with enough data we would have a reference per class\n",
    "\n",
    "ref_embeddings, _ = extract_embeddings(model, tokenizer, in_val_loader, layers=[6])"
   ],
   "metadata": {
    "collapsed": false
   }
  },
  {
   "cell_type": "markdown",
   "source": [
    "### Mahalanobis"
   ],
   "metadata": {
    "collapsed": false
   }
  },
  {
   "cell_type": "code",
   "execution_count": 8,
   "outputs": [],
   "source": [
    "from Todd import MahalanobisScorer\n",
    "\n",
    "maha_detector = MahalanobisScorer(layers=[6])\n",
    "maha_detector.fit(ref_embeddings)"
   ],
   "metadata": {
    "collapsed": false
   }
  },
  {
   "cell_type": "code",
   "execution_count": 9,
   "outputs": [
    {
     "name": "stdout",
     "output_type": "stream",
     "text": [
      "tensor([4652.0269,  745.2454, 1136.8346, 1710.2563])\n",
      "tensor([10499.9854,  6349.9004, 10801.1152,  5237.2954])\n"
     ]
    }
   ],
   "source": [
    "\n",
    "def eval_loader(loader):\n",
    "    with torch.no_grad():\n",
    "        for batch in loader:\n",
    "            inputs = tokenizer(\n",
    "                batch[\"source\"], padding=True, truncation=True, return_tensors=\"pt\"\n",
    "            )\n",
    "            output = model.generate(\n",
    "                **inputs,\n",
    "                return_dict_in_generate=True,\n",
    "                output_hidden_states=True,\n",
    "                output_scores=True,\n",
    "            )\n",
    "\n",
    "            print(maha_detector(output))\n",
    "            break\n",
    "\n",
    "\n",
    "eval_loader(in_test_loader)\n",
    "eval_loader(out_test_loader)"
   ],
   "metadata": {
    "collapsed": false
   }
  },
  {
   "cell_type": "markdown",
   "source": [
    "### Cosine\n",
    "\n"
   ],
   "metadata": {
    "collapsed": false
   }
  },
  {
   "cell_type": "code",
   "execution_count": 10,
   "outputs": [
    {
     "name": "stdout",
     "output_type": "stream",
     "text": [
      "IN\n",
      "tensor([-0.5659, -0.8544, -0.7983, -0.7156])\n",
      "OUT\n",
      "tensor([-0.3937, -0.4819, -0.3789, -0.5035])\n"
     ]
    }
   ],
   "source": [
    "from Todd.featuresscorers import CosineProjectionScorer\n",
    "cosine_detector = CosineProjectionScorer(layers=[6])\n",
    "cosine_detector.fit(ref_embeddings)\n",
    "\n",
    "def eval_loader(loader):\n",
    "    with torch.no_grad():\n",
    "        for batch in loader:\n",
    "            inputs = tokenizer(\n",
    "                batch[\"source\"], padding=True, truncation=True, return_tensors=\"pt\"\n",
    "            )\n",
    "            output = model.generate(\n",
    "                **inputs,\n",
    "                return_dict_in_generate=True,\n",
    "                output_hidden_states=True,\n",
    "                output_scores=True,\n",
    "            )\n",
    "\n",
    "            # print(cosine_detector.compute_scores(output))\n",
    "            print(cosine_detector(output))\n",
    "            break\n",
    "\n",
    "print(\"IN\")\n",
    "eval_loader(in_test_loader)\n",
    "print(\"OUT\")\n",
    "eval_loader(out_test_loader)\n"
   ],
   "metadata": {
    "collapsed": false
   }
  },
  {
   "cell_type": "markdown",
   "source": [
    "## Decoder based filters"
   ],
   "metadata": {
    "collapsed": false
   }
  },
  {
   "cell_type": "code",
   "execution_count": 11,
   "outputs": [],
   "source": [
    "from Todd.itscorers import SequenceRenyiNegScorer"
   ],
   "metadata": {
    "collapsed": false
   }
  },
  {
   "cell_type": "code",
   "execution_count": 11,
   "outputs": [],
   "source": [],
   "metadata": {
    "collapsed": false
   }
  },
  {
   "cell_type": "markdown",
   "source": [
    "### Output mode\n",
    "\n",
    "It output a score / a filter on each sequence returned for each sample in the batch"
   ],
   "metadata": {
    "collapsed": false
   }
  },
  {
   "cell_type": "code",
   "execution_count": 12,
   "outputs": [
    {
     "name": "stdout",
     "output_type": "stream",
     "text": [
      "IN DATA\n"
     ]
    },
    {
     "ename": "TypeError",
     "evalue": "SequenceRenyiNegScorer.per_output_scores() got an unexpected keyword argument 'batch_size'",
     "output_type": "error",
     "traceback": [
      "\u001B[0;31m---------------------------------------------------------------------------\u001B[0m",
      "\u001B[0;31mTypeError\u001B[0m                                 Traceback (most recent call last)",
      "Cell \u001B[0;32mIn[12], line 37\u001B[0m\n\u001B[1;32m     34\u001B[0m             \u001B[38;5;28;01mbreak\u001B[39;00m\n\u001B[1;32m     36\u001B[0m \u001B[38;5;28mprint\u001B[39m(\u001B[38;5;124m\"\u001B[39m\u001B[38;5;124mIN DATA\u001B[39m\u001B[38;5;124m\"\u001B[39m)\n\u001B[0;32m---> 37\u001B[0m \u001B[43meval_loader\u001B[49m\u001B[43m(\u001B[49m\u001B[43min_test_loader\u001B[49m\u001B[43m)\u001B[49m\n\u001B[1;32m     38\u001B[0m \u001B[38;5;28mprint\u001B[39m(\u001B[38;5;124m\"\u001B[39m\u001B[38;5;124mOUT DATA\u001B[39m\u001B[38;5;124m\"\u001B[39m)\n\u001B[1;32m     39\u001B[0m eval_loader(out_test_loader)\n",
      "Cell \u001B[0;32mIn[12], line 19\u001B[0m, in \u001B[0;36meval_loader\u001B[0;34m(loader)\u001B[0m\n\u001B[1;32m      6\u001B[0m inputs \u001B[38;5;241m=\u001B[39m tokenizer(\n\u001B[1;32m      7\u001B[0m     batch[\u001B[38;5;124m\"\u001B[39m\u001B[38;5;124msource\u001B[39m\u001B[38;5;124m\"\u001B[39m], padding\u001B[38;5;241m=\u001B[39m\u001B[38;5;28;01mTrue\u001B[39;00m, truncation\u001B[38;5;241m=\u001B[39m\u001B[38;5;28;01mTrue\u001B[39;00m, return_tensors\u001B[38;5;241m=\u001B[39m\u001B[38;5;124m\"\u001B[39m\u001B[38;5;124mpt\u001B[39m\u001B[38;5;124m\"\u001B[39m\n\u001B[1;32m      8\u001B[0m )\n\u001B[1;32m      9\u001B[0m output \u001B[38;5;241m=\u001B[39m model\u001B[38;5;241m.\u001B[39mgenerate(\n\u001B[1;32m     10\u001B[0m     \u001B[38;5;241m*\u001B[39m\u001B[38;5;241m*\u001B[39minputs,\n\u001B[1;32m     11\u001B[0m     return_dict_in_generate\u001B[38;5;241m=\u001B[39m\u001B[38;5;28;01mTrue\u001B[39;00m,\n\u001B[0;32m   (...)\u001B[0m\n\u001B[1;32m     16\u001B[0m     do_sample\u001B[38;5;241m=\u001B[39m\u001B[38;5;28;01mFalse\u001B[39;00m,\n\u001B[1;32m     17\u001B[0m )\n\u001B[0;32m---> 19\u001B[0m \u001B[38;5;28mprint\u001B[39m(\u001B[43mrenyi_entropy_scorer\u001B[49m\u001B[43m(\u001B[49m\n\u001B[1;32m     20\u001B[0m \u001B[43m    \u001B[49m\u001B[43moutput\u001B[49m\u001B[43m,\u001B[49m\n\u001B[1;32m     21\u001B[0m \u001B[43m    \u001B[49m\u001B[43mbatch_size\u001B[49m\u001B[38;5;241;43m=\u001B[39;49m\u001B[38;5;241;43m4\u001B[39;49m\u001B[43m,\u001B[49m\n\u001B[1;32m     22\u001B[0m \u001B[43m    \u001B[49m\u001B[43mnum_return_sequences\u001B[49m\u001B[38;5;241;43m=\u001B[39;49m\u001B[38;5;241;43m2\u001B[39;49m\u001B[43m,\u001B[49m\n\u001B[1;32m     23\u001B[0m \u001B[43m    \u001B[49m\u001B[43mnum_beam\u001B[49m\u001B[38;5;241;43m=\u001B[39;49m\u001B[38;5;241;43m2\u001B[39;49m\u001B[43m,\u001B[49m\n\u001B[1;32m     24\u001B[0m \u001B[43m\u001B[49m\u001B[43m)\u001B[49m)\n\u001B[1;32m     27\u001B[0m \u001B[38;5;28mprint\u001B[39m(renyi_entropy_scorer\u001B[38;5;241m.\u001B[39mcompute_scores(\n\u001B[1;32m     28\u001B[0m     output,\n\u001B[1;32m     29\u001B[0m     batch_size\u001B[38;5;241m=\u001B[39m\u001B[38;5;241m4\u001B[39m,\n\u001B[1;32m     30\u001B[0m     num_return_sequences\u001B[38;5;241m=\u001B[39m\u001B[38;5;241m2\u001B[39m,\n\u001B[1;32m     31\u001B[0m     num_beam\u001B[38;5;241m=\u001B[39m\u001B[38;5;241m2\u001B[39m,\n\u001B[1;32m     32\u001B[0m ))\n\u001B[1;32m     33\u001B[0m \u001B[38;5;28;01mdel\u001B[39;00m output\n",
      "File \u001B[0;32m~/Documents/phd/transformers/ToddProject/Todd/Todd/basescorers.py:52\u001B[0m, in \u001B[0;36mScorer.__call__\u001B[0;34m(self, *args, **kwargs)\u001B[0m\n\u001B[1;32m     51\u001B[0m \u001B[38;5;28;01mdef\u001B[39;00m \u001B[38;5;21m__call__\u001B[39m(\u001B[38;5;28mself\u001B[39m, \u001B[38;5;241m*\u001B[39margs, \u001B[38;5;241m*\u001B[39m\u001B[38;5;241m*\u001B[39mkwargs):\n\u001B[0;32m---> 52\u001B[0m     \u001B[38;5;28;01mreturn\u001B[39;00m \u001B[38;5;28;43mself\u001B[39;49m\u001B[38;5;241;43m.\u001B[39;49m\u001B[43mcompute_scores\u001B[49m\u001B[43m(\u001B[49m\u001B[38;5;241;43m*\u001B[39;49m\u001B[43margs\u001B[49m\u001B[43m,\u001B[49m\u001B[43m \u001B[49m\u001B[38;5;241;43m*\u001B[39;49m\u001B[38;5;241;43m*\u001B[39;49m\u001B[43mkwargs\u001B[49m\u001B[43m)\u001B[49m\n",
      "File \u001B[0;32m~/Documents/phd/transformers/ToddProject/Todd/Todd/basescorers.py:101\u001B[0m, in \u001B[0;36mDecoderBasedScorers.compute_scores\u001B[0;34m(self, *args, **kwargs)\u001B[0m\n\u001B[1;32m     99\u001B[0m     \u001B[38;5;28;01mreturn\u001B[39;00m \u001B[38;5;28mself\u001B[39m\u001B[38;5;241m.\u001B[39mper_input_scores(\u001B[38;5;241m*\u001B[39margs, \u001B[38;5;241m*\u001B[39m\u001B[38;5;241m*\u001B[39mkwargs)\n\u001B[1;32m    100\u001B[0m \u001B[38;5;28;01melif\u001B[39;00m \u001B[38;5;28mself\u001B[39m\u001B[38;5;241m.\u001B[39mmode \u001B[38;5;241m==\u001B[39m \u001B[38;5;124m\"\u001B[39m\u001B[38;5;124moutput\u001B[39m\u001B[38;5;124m\"\u001B[39m:\n\u001B[0;32m--> 101\u001B[0m     \u001B[38;5;28;01mreturn\u001B[39;00m \u001B[38;5;28;43mself\u001B[39;49m\u001B[38;5;241;43m.\u001B[39;49m\u001B[43mper_output_scores\u001B[49m\u001B[43m(\u001B[49m\u001B[38;5;241;43m*\u001B[39;49m\u001B[43margs\u001B[49m\u001B[43m,\u001B[49m\u001B[43m \u001B[49m\u001B[38;5;241;43m*\u001B[39;49m\u001B[38;5;241;43m*\u001B[39;49m\u001B[43mkwargs\u001B[49m\u001B[43m)\u001B[49m\n\u001B[1;32m    102\u001B[0m \u001B[38;5;28;01melif\u001B[39;00m \u001B[38;5;28mself\u001B[39m\u001B[38;5;241m.\u001B[39mmode \u001B[38;5;241m==\u001B[39m \u001B[38;5;124m\"\u001B[39m\u001B[38;5;124mtoken\u001B[39m\u001B[38;5;124m\"\u001B[39m:\n\u001B[1;32m    103\u001B[0m     \u001B[38;5;28;01mreturn\u001B[39;00m \u001B[38;5;28mself\u001B[39m\u001B[38;5;241m.\u001B[39mper_token_scores(\u001B[38;5;241m*\u001B[39margs, \u001B[38;5;241m*\u001B[39m\u001B[38;5;241m*\u001B[39mkwargs)\n",
      "\u001B[0;31mTypeError\u001B[0m: SequenceRenyiNegScorer.per_output_scores() got an unexpected keyword argument 'batch_size'"
     ]
    }
   ],
   "source": [
    "\n",
    "renyi_entropy_scorer = SequenceRenyiNegScorer(pad_token_id=tokenizer.pad_token_id, mode=\"output\")\n",
    "\n",
    "def eval_loader(loader):\n",
    "    with torch.no_grad():\n",
    "        for batch in loader:\n",
    "            inputs = tokenizer(\n",
    "                batch[\"source\"], padding=True, truncation=True, return_tensors=\"pt\"\n",
    "            )\n",
    "            output = model.generate(\n",
    "                **inputs,\n",
    "                return_dict_in_generate=True,\n",
    "                output_hidden_states=True,\n",
    "                output_scores=True,\n",
    "                num_return_sequences=2,\n",
    "                num_beams=2,\n",
    "                do_sample=False,\n",
    "            )\n",
    "\n",
    "            print(renyi_entropy_scorer(\n",
    "                output,\n",
    "                batch_size=4,\n",
    "                num_return_sequences=2,\n",
    "                num_beam=2,\n",
    "            ))\n",
    "\n",
    "\n",
    "            print(renyi_entropy_scorer.compute_scores(\n",
    "                output,\n",
    "                batch_size=4,\n",
    "                num_return_sequences=2,\n",
    "                num_beam=2,\n",
    "            ))\n",
    "            del output\n",
    "            break\n",
    "\n",
    "print(\"IN DATA\")\n",
    "eval_loader(in_test_loader)\n",
    "print(\"OUT DATA\")\n",
    "eval_loader(out_test_loader)\n"
   ],
   "metadata": {
    "collapsed": false
   }
  },
  {
   "cell_type": "markdown",
   "source": [
    "### Input Mode\n",
    "It only returns a score for each sample in the bach by aggregating the scores of the generated sequences."
   ],
   "metadata": {
    "collapsed": false
   }
  },
  {
   "cell_type": "code",
   "execution_count": null,
   "outputs": [],
   "source": [
    "renyi_entropy_scorer = SequenceRenyiNegScorer(pad_token_id=tokenizer.pad_token_id, mode=\"input\")\n",
    "\n",
    "def eval_loader(loader):\n",
    "    with torch.no_grad():\n",
    "        for batch in loader:\n",
    "            inputs = tokenizer(\n",
    "                batch[\"source\"], padding=True, truncation=True, return_tensors=\"pt\"\n",
    "            )\n",
    "            output = model.generate(\n",
    "                **inputs,\n",
    "                return_dict_in_generate=True,\n",
    "                output_hidden_states=True,\n",
    "                output_scores=True,\n",
    "                num_return_sequences=2,\n",
    "                num_beams=2,\n",
    "                do_sample=False,\n",
    "            )\n",
    "\n",
    "            print(renyi_entropy_scorer(\n",
    "                output,\n",
    "                batch_size=4,\n",
    "                num_return_sequences=2,\n",
    "                num_beam=2,\n",
    "            ))\n",
    "\n",
    "\n",
    "            print(renyi_entropy_scorer.compute_scores(\n",
    "                output,\n",
    "                batch_size=4,\n",
    "                num_return_sequences=2,\n",
    "                num_beam=2,\n",
    "            ))\n",
    "            del output\n",
    "            break\n",
    "\n",
    "print(\"IN DATA\")\n",
    "eval_loader(in_test_loader)\n",
    "\n",
    "print(\"OUT DATA\")\n",
    "eval_loader(out_test_loader)\n"
   ],
   "metadata": {
    "collapsed": false
   }
  },
  {
   "cell_type": "markdown",
   "source": [
    "### Beam ranking using Info-projection"
   ],
   "metadata": {
    "collapsed": false
   }
  },
  {
   "cell_type": "code",
   "execution_count": null,
   "outputs": [],
   "source": [],
   "metadata": {
    "collapsed": false
   }
  },
  {
   "cell_type": "code",
   "execution_count": null,
   "outputs": [],
   "source": [
    "from Todd.itscorers import BeamRenyiInformationProjection"
   ],
   "metadata": {
    "collapsed": false
   }
  },
  {
   "cell_type": "code",
   "execution_count": null,
   "outputs": [],
   "source": [
    "# Make dataloader\n",
    "# Smaller batch so it runs on CPU and fits in memory\n",
    "in_val_loader = DataLoader(in_val, shuffle=False, batch_size=6)\n",
    "in_test_loader = DataLoader(in_test, shuffle=False, batch_size=6)\n",
    "out_test_loader = DataLoader(out_test, shuffle=False, batch_size=6)\n"
   ],
   "metadata": {
    "collapsed": false
   }
  },
  {
   "cell_type": "code",
   "execution_count": null,
   "outputs": [],
   "source": [
    "batch_self_projector = BeamRenyiInformationProjection(-10.35, pad_token_id=tokenizer.pad_token_id, mode=\"input\", use_soft_projection=True, n_neighbors=2)\n",
    "\n",
    "def eval_loader(loader):\n",
    "    with torch.no_grad():\n",
    "        for batch in loader:\n",
    "            inputs = tokenizer(\n",
    "                batch[\"source\"], padding=True, truncation=True, return_tensors=\"pt\"\n",
    "            )\n",
    "            output = model.generate(\n",
    "                **inputs,\n",
    "                return_dict_in_generate=True,\n",
    "                output_hidden_states=True,\n",
    "                output_scores=True,\n",
    "                num_return_sequences=4,\n",
    "                num_beams=4,\n",
    "                do_sample=False,\n",
    "            )\n",
    "\n",
    "            candidate_scores = batch_self_projector.per_output_scores(\n",
    "                output,\n",
    "                batch_size=6,\n",
    "                num_return_sequences=4,\n",
    "                num_beams=2,\n",
    "            )\n",
    "\n",
    "            candidate_scores, indices = torch.sort(candidate_scores, dim=-1, descending=False)\n",
    "\n",
    "\n",
    "            print(indices)\n",
    "            print(candidate_scores)\n",
    "\n",
    "            print(output.sequences[indices].shape)\n",
    "\n",
    "            del output\n",
    "            break\n",
    "\n",
    "print(\"IN DATA\")\n",
    "eval_loader(in_test_loader)\n",
    "\n",
    "print(\"OUT DATA\")\n",
    "eval_loader(out_test_loader)\n"
   ],
   "metadata": {
    "collapsed": false
   }
  },
  {
   "cell_type": "code",
   "execution_count": null,
   "outputs": [],
   "source": [],
   "metadata": {
    "collapsed": false,
    "pycharm": {
     "is_executing": true
    }
   }
  },
  {
   "cell_type": "code",
   "execution_count": null,
   "outputs": [],
   "source": [],
   "metadata": {
    "collapsed": false,
    "pycharm": {
     "is_executing": true
    }
   }
  },
  {
   "cell_type": "code",
   "execution_count": null,
   "outputs": [],
   "source": [],
   "metadata": {
    "collapsed": false,
    "pycharm": {
     "is_executing": true
    }
   }
  },
  {
   "cell_type": "code",
   "execution_count": null,
   "outputs": [],
   "source": [],
   "metadata": {
    "collapsed": false,
    "pycharm": {
     "is_executing": true
    }
   }
  },
  {
   "cell_type": "code",
   "execution_count": null,
   "outputs": [],
   "source": [],
   "metadata": {
    "collapsed": false
   }
  }
 ],
 "metadata": {
  "kernelspec": {
   "display_name": "Python 3",
   "language": "python",
   "name": "python3"
  },
  "language_info": {
   "codemirror_mode": {
    "name": "ipython",
    "version": 2
   },
   "file_extension": ".py",
   "mimetype": "text/x-python",
   "name": "python",
   "nbconvert_exporter": "python",
   "pygments_lexer": "ipython2",
   "version": "2.7.6"
  }
 },
 "nbformat": 4,
 "nbformat_minor": 0
}
