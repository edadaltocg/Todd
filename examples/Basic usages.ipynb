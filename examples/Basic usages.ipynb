{
 "cells": [
  {
   "cell_type": "code",
   "execution_count": 1,
   "metadata": {
    "collapsed": true
   },
   "outputs": [],
   "source": [
    "from Todd import MahalanobisFilter, extract_embeddings\n",
    "import torch\n",
    "from torch.utils.data import Dataset, DataLoader\n",
    "\n",
    "from transformers import AutoModelForSeq2SeqLM, AutoTokenizer\n",
    "from toddbenchmark.generation_data import prep_dataset, prep_model, GenerationDataset\n",
    "from datasets import load_dataset\n"
   ]
  },
  {
   "cell_type": "code",
   "execution_count": 2,
   "outputs": [],
   "source": [
    "%load_ext autoreload\n",
    "%autoreload 2\n"
   ],
   "metadata": {
    "collapsed": false
   }
  },
  {
   "cell_type": "code",
   "execution_count": 3,
   "outputs": [
    {
     "name": "stderr",
     "output_type": "stream",
     "text": [
      "/home/mdarrin/Documents/phd/transformers/transformers/src/transformers/models/marian/tokenization_marian.py:196: UserWarning: Recommended: pip install sacremoses.\n",
      "  warnings.warn(\"Recommended: pip install sacremoses.\")\n"
     ]
    }
   ],
   "source": [
    "model, tokenizer = prep_model(\"Helsinki-NLP/opus-mt-de-en\")\n"
   ],
   "metadata": {
    "collapsed": false
   }
  },
  {
   "cell_type": "markdown",
   "source": [
    "## Load and prep dataset using ToddBenchmark"
   ],
   "metadata": {
    "collapsed": false
   }
  },
  {
   "cell_type": "code",
   "execution_count": 4,
   "outputs": [
    {
     "data": {
      "text/plain": "Downloading readme:   0%|          | 0.00/9.21k [00:00<?, ?B/s]",
      "application/vnd.jupyter.widget-view+json": {
       "version_major": 2,
       "version_minor": 0,
       "model_id": "a7e60de3f3df46d196ddb6396670db5a"
      }
     },
     "metadata": {},
     "output_type": "display_data"
    },
    {
     "name": "stderr",
     "output_type": "stream",
     "text": [
      "Found cached dataset wmt16 (/home/mdarrin/.cache/huggingface/datasets/wmt16/de-en/1.0.0/746749a11d25c02058042da7502d973ff410e73457f3d305fc1177dc0e8c4227)\n"
     ]
    },
    {
     "data": {
      "text/plain": "  0%|          | 0/3 [00:00<?, ?it/s]",
      "application/vnd.jupyter.widget-view+json": {
       "version_major": 2,
       "version_minor": 0,
       "model_id": "9da2f264f3174cf8a41a582e805c54e0"
      }
     },
     "metadata": {},
     "output_type": "display_data"
    },
    {
     "name": "stderr",
     "output_type": "stream",
     "text": [
      "Found cached dataset wmt16 (/home/mdarrin/.cache/huggingface/datasets/wmt16/ro-en/1.0.0/746749a11d25c02058042da7502d973ff410e73457f3d305fc1177dc0e8c4227)\n"
     ]
    },
    {
     "data": {
      "text/plain": "  0%|          | 0/3 [00:00<?, ?it/s]",
      "application/vnd.jupyter.widget-view+json": {
       "version_major": 2,
       "version_minor": 0,
       "model_id": "c566cc69508a4381a57de6f24433f2c3"
      }
     },
     "metadata": {},
     "output_type": "display_data"
    }
   ],
   "source": [
    "\n",
    "in_dataset = prep_dataset(\"wmt16\", \"de-en\", tokenizer=tokenizer)\n",
    "out_dataset = prep_dataset(\"wmt16\", \"ro-en\", tokenizer=tokenizer)\n",
    "\n",
    "# For the sake of this example we only use 100 samples to keep things quick!\n",
    "in_val = in_dataset[1][:1000]\n",
    "in_test = in_dataset[2][:100]\n",
    "out_test = out_dataset[2][:100]\n",
    "\n",
    "del in_dataset\n",
    "del out_dataset\n"
   ],
   "metadata": {
    "collapsed": false
   }
  },
  {
   "cell_type": "code",
   "execution_count": 5,
   "outputs": [],
   "source": [
    "# Make dataloader\n",
    "in_val_loader = DataLoader(in_val, shuffle=False, batch_size=4)\n",
    "in_test_loader = DataLoader(in_test, shuffle=False, batch_size=4)\n",
    "out_test_loader = DataLoader(out_test, shuffle=False, batch_size=4)\n"
   ],
   "metadata": {
    "collapsed": false
   }
  },
  {
   "cell_type": "markdown",
   "source": [
    "## Feature based filters"
   ],
   "metadata": {
    "collapsed": false
   }
  },
  {
   "cell_type": "markdown",
   "source": [
    "### Extracting reference data to fit the detectors"
   ],
   "metadata": {
    "collapsed": false
   }
  },
  {
   "cell_type": "code",
   "execution_count": 6,
   "outputs": [],
   "source": [
    "# We work here in a case where the classes do not matter\n",
    "# So we can skip retrieving them and the only class key will be 0\n",
    "# It would be different in a classification problem with enough data we would have a reference per class\n",
    "ref_embeddings, _ = extract_embeddings(model, tokenizer, in_val_loader, layers=[6])"
   ],
   "metadata": {
    "collapsed": false
   }
  },
  {
   "cell_type": "code",
   "execution_count": 15,
   "outputs": [],
   "source": [
    "maha_detector = MahalanobisFilter(threshold=3200, layers=[6])\n",
    "maha_detector.fit(ref_embeddings)"
   ],
   "metadata": {
    "collapsed": false
   }
  },
  {
   "cell_type": "code",
   "execution_count": 16,
   "outputs": [
    {
     "name": "stdout",
     "output_type": "stream",
     "text": [
      "torch.Size([512, 512])\n"
     ]
    }
   ],
   "source": [],
   "metadata": {
    "collapsed": false
   }
  },
  {
   "cell_type": "markdown",
   "source": [
    "### Evaluation loop"
   ],
   "metadata": {
    "collapsed": false
   }
  },
  {
   "cell_type": "code",
   "execution_count": 18,
   "outputs": [
    {
     "name": "stdout",
     "output_type": "stream",
     "text": [
      "tensor([True, True, True, True, True, True, True, True, True, True, True, True,\n",
      "        True, True, True, True])\n",
      "tensor([False, False, False, False, False, False, False, False, False, False,\n",
      "        False, False,  True, False, False, False])\n"
     ]
    }
   ],
   "source": [
    "\n",
    "def eval_loader(loader):\n",
    "    with torch.no_grad():\n",
    "        for batch in loader:\n",
    "            inputs = tokenizer(\n",
    "                batch[\"source\"], padding=True, truncation=True, return_tensors=\"pt\"\n",
    "            )\n",
    "            output = model.generate(\n",
    "                **inputs,\n",
    "                return_dict_in_generate=True,\n",
    "                output_hidden_states=True,\n",
    "                output_scores=True,\n",
    "            )\n",
    "\n",
    "            print(maha_detector(output))\n",
    "            break\n",
    "\n",
    "\n",
    "eval_loader(in_test_loader)\n",
    "eval_loader(out_test_loader)"
   ],
   "metadata": {
    "collapsed": false
   }
  },
  {
   "cell_type": "markdown",
   "source": [
    "## Decoder based filters"
   ],
   "metadata": {
    "collapsed": false
   }
  },
  {
   "cell_type": "code",
   "execution_count": 99,
   "outputs": [],
   "source": [
    "from Todd.itfilters import SequenceRenyiNegFilter"
   ],
   "metadata": {
    "collapsed": false
   }
  },
  {
   "cell_type": "code",
   "execution_count": 105,
   "outputs": [],
   "source": [],
   "metadata": {
    "collapsed": false
   }
  },
  {
   "cell_type": "markdown",
   "source": [
    "### Output mode\n",
    "\n",
    "It output a score / a filter on each sequence returned for each sample in the batch"
   ],
   "metadata": {
    "collapsed": false
   }
  },
  {
   "cell_type": "code",
   "execution_count": 109,
   "outputs": [
    {
     "name": "stdout",
     "output_type": "stream",
     "text": [
      "IN DATA\n",
      "tensor([[True, True],\n",
      "        [True, True],\n",
      "        [True, True],\n",
      "        [True, True]])\n",
      "tensor([[-10.3531, -10.4222],\n",
      "        [-10.4674, -10.4793],\n",
      "        [-10.4999, -10.5295],\n",
      "        [-10.5211, -10.5511]])\n",
      "OUT DATA\n",
      "tensor([[False, False],\n",
      "        [False, False],\n",
      "        [False, False],\n",
      "        [False, False]])\n",
      "tensor([[-10.2332, -10.2277],\n",
      "        [-10.3162, -10.3185],\n",
      "        [-10.2982, -10.2804],\n",
      "        [-10.2965, -10.2874]])\n"
     ]
    }
   ],
   "source": [
    "\n",
    "renyi_entropy_filter = SequenceRenyiNegFilter(-10.35, pad_token_id=tokenizer.pad_token_id, mode=\"output\")\n",
    "\n",
    "def eval_loader(loader):\n",
    "    with torch.no_grad():\n",
    "        for batch in loader:\n",
    "            inputs = tokenizer(\n",
    "                batch[\"source\"], padding=True, truncation=True, return_tensors=\"pt\"\n",
    "            )\n",
    "            output = model.generate(\n",
    "                **inputs,\n",
    "                return_dict_in_generate=True,\n",
    "                output_hidden_states=True,\n",
    "                output_scores=True,\n",
    "                num_return_sequences=2,\n",
    "                num_beams=2,\n",
    "                do_sample=False,\n",
    "            )\n",
    "\n",
    "            print(renyi_entropy_filter(\n",
    "                output,\n",
    "                batch_size=4,\n",
    "                num_return_sequences=2,\n",
    "                num_beam=2,\n",
    "            ))\n",
    "\n",
    "\n",
    "            print(renyi_entropy_filter.compute_scores(\n",
    "                output,\n",
    "                batch_size=4,\n",
    "                num_return_sequences=2,\n",
    "                num_beam=2,\n",
    "            ))\n",
    "            del output\n",
    "            break\n",
    "\n",
    "print(\"IN DATA\")\n",
    "eval_loader(in_test_loader)\n",
    "print(\"OUT DATA\")\n",
    "eval_loader(out_test_loader)\n"
   ],
   "metadata": {
    "collapsed": false
   }
  },
  {
   "cell_type": "markdown",
   "source": [
    "### Input Mode\n",
    "It only returns a score for each sample in the bach by aggregating the scores of the generated sequences."
   ],
   "metadata": {
    "collapsed": false
   }
  },
  {
   "cell_type": "code",
   "execution_count": 110,
   "outputs": [
    {
     "name": "stdout",
     "output_type": "stream",
     "text": [
      "IN DATA\n",
      "tensor([True, True, True, True])\n",
      "tensor([-10.3876, -10.4734, -10.5147, -10.5361])\n",
      "OUT DATA\n",
      "tensor([False, False, False, False])\n",
      "tensor([-10.2304, -10.3173, -10.2893, -10.2919])\n"
     ]
    }
   ],
   "source": [
    "renyi_entropy_filter = SequenceRenyiNegFilter(-10.35, pad_token_id=tokenizer.pad_token_id, mode=\"input\")\n",
    "\n",
    "def eval_loader(loader):\n",
    "    with torch.no_grad():\n",
    "        for batch in loader:\n",
    "            inputs = tokenizer(\n",
    "                batch[\"source\"], padding=True, truncation=True, return_tensors=\"pt\"\n",
    "            )\n",
    "            output = model.generate(\n",
    "                **inputs,\n",
    "                return_dict_in_generate=True,\n",
    "                output_hidden_states=True,\n",
    "                output_scores=True,\n",
    "                num_return_sequences=2,\n",
    "                num_beams=2,\n",
    "                do_sample=False,\n",
    "            )\n",
    "\n",
    "            print(renyi_entropy_filter(\n",
    "                output,\n",
    "                batch_size=4,\n",
    "                num_return_sequences=2,\n",
    "                num_beam=2,\n",
    "            ))\n",
    "\n",
    "\n",
    "            print(renyi_entropy_filter.compute_scores(\n",
    "                output,\n",
    "                batch_size=4,\n",
    "                num_return_sequences=2,\n",
    "                num_beam=2,\n",
    "            ))\n",
    "            del output\n",
    "            break\n",
    "\n",
    "print(\"IN DATA\")\n",
    "eval_loader(in_test_loader)\n",
    "\n",
    "print(\"OUT DATA\")\n",
    "eval_loader(out_test_loader)\n"
   ],
   "metadata": {
    "collapsed": false
   }
  },
  {
   "cell_type": "markdown",
   "source": [
    "### Beam ranking using Info-projection"
   ],
   "metadata": {
    "collapsed": false
   }
  },
  {
   "cell_type": "code",
   "execution_count": null,
   "outputs": [],
   "source": [],
   "metadata": {
    "collapsed": false
   }
  },
  {
   "cell_type": "code",
   "execution_count": 9,
   "outputs": [],
   "source": [
    "from Todd.itfilters import BeamRenyiInformationProjection"
   ],
   "metadata": {
    "collapsed": false
   }
  },
  {
   "cell_type": "code",
   "execution_count": 10,
   "outputs": [],
   "source": [
    "# Make dataloader\n",
    "# Smaller batch so it runs on CPU and fits in memory\n",
    "in_val_loader = DataLoader(in_val, shuffle=False, batch_size=2)\n",
    "in_test_loader = DataLoader(in_test, shuffle=False, batch_size=2)\n",
    "out_test_loader = DataLoader(out_test, shuffle=False, batch_size=2)\n"
   ],
   "metadata": {
    "collapsed": false
   }
  },
  {
   "cell_type": "code",
   "execution_count": 17,
   "outputs": [
    {
     "name": "stdout",
     "output_type": "stream",
     "text": [
      "IN DATA\n",
      "tensor([[2, 3, 0, 1],\n",
      "        [1, 2, 0, 3]])\n",
      "tensor([[0.0487, 0.0518, 0.0553, 0.0959],\n",
      "        [0.0300, 0.0366, 0.0404, 0.0804]])\n",
      "torch.Size([2, 4, 17])\n",
      "OUT DATA\n",
      "tensor([[1, 0, 2, 3],\n",
      "        [2, 0, 3, 1]])\n",
      "tensor([[0.0025, 0.0025, 0.0029, 0.0516],\n",
      "        [0.0101, 0.0117, 0.0136, 0.0141]])\n",
      "torch.Size([2, 4, 122])\n"
     ]
    }
   ],
   "source": [
    "batch_self_projector = BeamRenyiInformationProjection(-10.35, pad_token_id=tokenizer.pad_token_id, mode=\"input\")\n",
    "\n",
    "def eval_loader(loader):\n",
    "    with torch.no_grad():\n",
    "        for batch in loader:\n",
    "            inputs = tokenizer(\n",
    "                batch[\"source\"], padding=True, truncation=True, return_tensors=\"pt\"\n",
    "            )\n",
    "            output = model.generate(\n",
    "                **inputs,\n",
    "                return_dict_in_generate=True,\n",
    "                output_hidden_states=True,\n",
    "                output_scores=True,\n",
    "                num_return_sequences=4,\n",
    "                num_beams=4,\n",
    "                do_sample=False,\n",
    "            )\n",
    "\n",
    "            candidate_scores = batch_self_projector.per_output_scores(\n",
    "                output,\n",
    "                batch_size=2,\n",
    "                num_return_sequences=4,\n",
    "                num_beams=2,\n",
    "            )\n",
    "\n",
    "            candidate_scores, indices = torch.sort(candidate_scores, dim=-1, descending=False)\n",
    "\n",
    "\n",
    "            print(indices)\n",
    "            print(candidate_scores)\n",
    "\n",
    "            print(output.sequences[indices].shape)\n",
    "\n",
    "            del output\n",
    "            break\n",
    "\n",
    "print(\"IN DATA\")\n",
    "eval_loader(in_test_loader)\n",
    "\n",
    "print(\"OUT DATA\")\n",
    "eval_loader(out_test_loader)\n"
   ],
   "metadata": {
    "collapsed": false
   }
  },
  {
   "cell_type": "code",
   "execution_count": null,
   "outputs": [],
   "source": [],
   "metadata": {
    "collapsed": false
   }
  }
 ],
 "metadata": {
  "kernelspec": {
   "display_name": "Python 3",
   "language": "python",
   "name": "python3"
  },
  "language_info": {
   "codemirror_mode": {
    "name": "ipython",
    "version": 2
   },
   "file_extension": ".py",
   "mimetype": "text/x-python",
   "name": "python",
   "nbconvert_exporter": "python",
   "pygments_lexer": "ipython2",
   "version": "2.7.6"
  }
 },
 "nbformat": 4,
 "nbformat_minor": 0
}
